{
  "nbformat": 4,
  "nbformat_minor": 0,
  "metadata": {
    "colab": {
      "name": "defect_detection.ipynb",
      "provenance": [],
      "collapsed_sections": [],
      "authorship_tag": "ABX9TyPAtNyRooqoXD9rQUME3WLT",
      "include_colab_link": true
    },
    "kernelspec": {
      "name": "python3",
      "display_name": "Python 3"
    },
    "language_info": {
      "name": "python"
    }
  },
  "cells": [
    {
      "cell_type": "markdown",
      "metadata": {
        "id": "view-in-github",
        "colab_type": "text"
      },
      "source": [
        "<a href=\"https://colab.research.google.com/github/Bayrem-ben/Bayrem-ben.github.io/blob/master/defect_detection.ipynb\" target=\"_parent\"><img src=\"https://colab.research.google.com/assets/colab-badge.svg\" alt=\"Open In Colab\"/></a>"
      ]
    },
    {
      "cell_type": "code",
      "metadata": {
        "colab": {
          "base_uri": "https://localhost:8080/"
        },
        "id": "GrIwqyZH510y",
        "outputId": "766d8889-98e7-4edb-8ff5-582c9aabbdde"
      },
      "source": [
        "from google.colab import drive\n",
        "drive.mount(\"/content/drive\")"
      ],
      "execution_count": null,
      "outputs": [
        {
          "output_type": "stream",
          "text": [
            "Drive already mounted at /content/drive; to attempt to forcibly remount, call drive.mount(\"/content/drive\", force_remount=True).\n"
          ],
          "name": "stdout"
        }
      ]
    },
    {
      "cell_type": "code",
      "metadata": {
        "id": "SBdmLjOX5-Jc"
      },
      "source": [
        "import cv2\n",
        "import imutils\n",
        "import os\n",
        "import numpy as np\n",
        "import pandas as pd\n",
        "import matplotlib.pyplot as plt\n",
        "from PIL import Image\n",
        "import tensorflow as tf\n",
        "from tensorflow import keras\n",
        "from tensorflow.keras import layers\n",
        "from tensorflow.keras.models import Sequential\n",
        "from tensorflow.keras.layers import Dense, Conv2D, Flatten, Dropout, MaxPooling2D\n",
        "from tensorflow.keras.preprocessing.image import ImageDataGenerator\n",
        "\n",
        "from google.colab.patches import cv2_imshow"
      ],
      "execution_count": null,
      "outputs": []
    },
    {
      "cell_type": "code",
      "metadata": {
        "id": "VOVFrxAz5-Rc"
      },
      "source": [
        "imageDir_conforme = os.path.join('/content/drive/My Drive/','draimer/')\n",
        "imageDir_non_conforme = os.path.join('/content/drive/My Drive/', 'draimer défaut/')"
      ],
      "execution_count": null,
      "outputs": []
    },
    {
      "cell_type": "code",
      "metadata": {
        "id": "D0ipXX6S1atE"
      },
      "source": [
        "#verification\n",
        "for dirname, _, filenames in os.walk(imageDir_conforme):\n",
        "    for filename in filenames:\n",
        "        print(os.path.join(dirname, filename))\n",
        "\n",
        "for dirname, _, filenames in os.walk(imageDir_non_conforme):\n",
        "    for filename in filenames:\n",
        "        print(os.path.join(dirname, filename))"
      ],
      "execution_count": null,
      "outputs": []
    },
    {
      "cell_type": "code",
      "metadata": {
        "id": "EIp13P0_KlM_"
      },
      "source": [
        "\"\"\"\n",
        "train_image_generator = ImageDataGenerator(rescale=1./255, shear_range=0.2, zoom_range=0.2, \n",
        "                                           rotation_range=20, horizontal_flip=True)\n",
        "\n",
        "data_conf = train_image_generator.flow_from_directory(batch_size=32,\n",
        "                                                     directory=imageDir_conforme,\n",
        "                                                     target_size=(224, 224),\n",
        "                                                     class_mode='binary')\n",
        "\n",
        "data_nconf = train_image_generator.flow_from_directory(batch_size=32,\n",
        "                                                     directory=imageDir_non_conforme,\n",
        "                                                     target_size=(224, 224),\n",
        "                                                     class_mode='binary')\n",
        "\n",
        "with open('/content/gdrive/My Drive/file.txt', 'w') as f:\n",
        "  f.write('content')\n",
        "\n",
        "\"\"\""
      ],
      "execution_count": null,
      "outputs": []
    },
    {
      "cell_type": "code",
      "metadata": {
        "colab": {
          "base_uri": "https://localhost:8080/"
        },
        "id": "RYIs2JpXmM9t",
        "outputId": "6e3a7f14-1a55-4355-ffea-b8dc903404df"
      },
      "source": [
        "from PIL import Image\n",
        "from imutils import face_utils\n",
        "\n",
        "def countour_img(path):\n",
        "  l = []\n",
        "  cnt_list = []\n",
        "  dim = (224, 224)\n",
        "\n",
        "  for fname in os.listdir(path):\n",
        "        fpath = os.path.join(path, fname)\n",
        "        image = cv2.imread(fpath)\n",
        "        image = cv2.resize(image, dim, Image.ANTIALIAS)\n",
        "\n",
        "        #gray image conversion\n",
        "        gray = cv2.cvtColor(image, cv2.COLOR_BGR2GRAY)\n",
        "        #applying edge detection\n",
        "        edged = cv2.Canny(gray , 50, 255)\n",
        "        #threshholding\n",
        "        thresh=cv2.threshold(edged,50,255,cv2.THRESH_BINARY_INV)[1]\n",
        "        #cnts = cv2.findContours(edged.copy(), cv2.RETR_EXTERNAL, cv2.CHAIN_APPROX_SIMPLE)\n",
        "        cnts = cv2.findContours(thresh.copy(),cv2.RETR_TREE, cv2.CHAIN_APPROX_SIMPLE) #RETR_LIST #contours, _ \n",
        "        #clean concour\n",
        "        cnts = imutils.grab_contours(cnts)\n",
        "        image = cv2.drawContours(image, cnts, -1, (0, 255, 0), -1) \n",
        "\n",
        "        l.append(image)        \n",
        "  return l\n",
        "\n",
        "data1 = countour_img(imageDir_conforme)\n",
        "data2 = countour_img(imageDir_non_conforme)\n",
        "#for i in data2 :\n",
        "    #data1.append(i)\n",
        "img_train = data1 + data2\n",
        "img_train = np.asarray(img_train)\n",
        "print(img_train.shape)\n",
        "#non_defect_images = np.concatenate((non_defect_images1, non_defect_images2))\n",
        "\n",
        "a = data1.copy()\n",
        "for n, i in enumerate(a):\n",
        "  a[n] = 0\n",
        "\n",
        "b = data2.copy()\n",
        "for n, i in enumerate(b):\n",
        "  b[n] = 1\n",
        "lab_train = a + b\n",
        "lab_train = np.asarray(lab_train)\n",
        "print(len(lab_train))"
      ],
      "execution_count": null,
      "outputs": [
        {
          "output_type": "stream",
          "text": [
            "(184, 224, 224, 3)\n",
            "184\n"
          ],
          "name": "stdout"
        }
      ]
    },
    {
      "cell_type": "code",
      "metadata": {
        "colab": {
          "base_uri": "https://localhost:8080/",
          "height": 303
        },
        "id": "dXqflSCN2Dj7",
        "outputId": "4a790a33-2067-46d6-a456-fa3dd67568a1"
      },
      "source": [
        "i = 52\n",
        "\n",
        "print(len(img_train))\n",
        "plt.imshow(img_train[i])"
      ],
      "execution_count": null,
      "outputs": [
        {
          "output_type": "stream",
          "text": [
            "184\n"
          ],
          "name": "stdout"
        },
        {
          "output_type": "execute_result",
          "data": {
            "text/plain": [
              "<matplotlib.image.AxesImage at 0x7f3f66555490>"
            ]
          },
          "metadata": {
            "tags": []
          },
          "execution_count": 9
        },
        {
          "output_type": "display_data",
          "data": {
            "image/png": "[encoded data removed]",
            "text/plain": [
              "<Figure size 432x288 with 1 Axes>"
            ]
          },
          "metadata": {
            "tags": [],
            "needs_background": "light"
          }
        }
      ]
    },
    {
      "cell_type": "code",
      "metadata": {
        "colab": {
          "base_uri": "https://localhost:8080/"
        },
        "id": "qP8DVO0f7fYm",
        "outputId": "db5fc57f-6604-4e14-f154-90f472381f9f"
      },
      "source": [
        "from tensorflow.keras import datasets, layers, models, optimizers, regularizers\n",
        "from tensorflow.keras.callbacks import EarlyStopping, ModelCheckpoint\n",
        "from sklearn.model_selection import train_test_split\n",
        "from tensorflow.keras.layers import Dense, Activation,Dropout\n",
        "from tensorflow.keras.models import Sequential\n",
        "from tensorflow.keras.layers import SimpleRNN, Embedding, LSTM\n",
        "\n",
        "\n",
        "def create_model(image_shape=(256, 4096, 1), print_summary=False):\n",
        "    # Initial model\n",
        "    model = models.Sequential()\n",
        "\n",
        " \n",
        "    model.add(layers.Flatten())\n",
        " \n",
        "    # Fully connected layer -> nn layer with 64 nodes\n",
        "    model.add(layers.Dense(64))\n",
        "    model.add(layers.BatchNormalization())\n",
        "    model.add(layers.Activation(\"relu\"))\n",
        "    model.add(layers.Dropout(0.25))\n",
        "    # Fully connected layer -> nn layer with 64 nodes\n",
        "    model.add(layers.Dense(64))\n",
        "    model.add(layers.BatchNormalization())\n",
        "    model.add(layers.Activation(\"relu\"))\n",
        "    model.add(layers.Dropout(0.25))\n",
        " \n",
        "    # Output layer\n",
        "    model.add(layers.Dense(1, activation=\"sigmoid\"))\n",
        " \n",
        "    # Set model compiler\n",
        "    model.compile(optimizer=\"SGD\", loss=\"binary_crossentropy\", metrics=[\"acc\"])\n",
        "    \n",
        "    return model\n",
        "model = create_model()\n",
        "\"\"\"\n",
        "model = Sequential()\n",
        "model.add(Embedding(10000, 32))\n",
        "model.add(SimpleRNN(32))\n",
        "\n",
        "model.add(Dense(units=8000,activation='relu'))\n",
        "model.add(Dropout(0.5))\n",
        "\n",
        "model.add(Dense(units=4000,activation='relu'))\n",
        "model.add(Dropout(0.5))\n",
        "\n",
        "model.add(Dense(units=1000,activation='relu'))\n",
        "model.add(Dropout(0.5))\n",
        "\n",
        "model.add(Dense(units=400,activation='relu'))\n",
        "model.add(Dropout(0.5))\n",
        "\n",
        "# Output layer\n",
        "model.add(Dense(1, activation='sigmoid'))\n",
        "\n",
        "model.compile(optimizer='rmsprop', loss='binary_crossentropy', metrics=['acc'])\n",
        "model.summary()\n",
        "\"\"\""
      ],
      "execution_count": null,
      "outputs": [
        {
          "output_type": "stream",
          "text": [
            "Model: \"sequential_5\"\n",
            "_________________________________________________________________\n",
            "Layer (type)                 Output Shape              Param #   \n",
            "=================================================================\n",
            "embedding (Embedding)        (None, None, 32)          320000    \n",
            "_________________________________________________________________\n",
            "simple_rnn (SimpleRNN)       (None, 32)                2080      \n",
            "_________________________________________________________________\n",
            "dense_4 (Dense)              (None, 8270)              272910    \n",
            "_________________________________________________________________\n",
            "dropout_2 (Dropout)          (None, 8270)              0         \n",
            "_________________________________________________________________\n",
            "dense_5 (Dense)              (None, 4000)              33084000  \n",
            "_________________________________________________________________\n",
            "dropout_3 (Dropout)          (None, 4000)              0         \n",
            "_________________________________________________________________\n",
            "dense_6 (Dense)              (None, 1000)              4001000   \n",
            "_________________________________________________________________\n",
            "dropout_4 (Dropout)          (None, 1000)              0         \n",
            "_________________________________________________________________\n",
            "dense_7 (Dense)              (None, 400)               400400    \n",
            "_________________________________________________________________\n",
            "dropout_5 (Dropout)          (None, 400)               0         \n",
            "_________________________________________________________________\n",
            "dense_8 (Dense)              (None, 1)                 401       \n",
            "=================================================================\n",
            "Total params: 38,080,791\n",
            "Trainable params: 38,080,791\n",
            "Non-trainable params: 0\n",
            "_________________________________________________________________\n"
          ],
          "name": "stdout"
        }
      ]
    },
    {
      "cell_type": "code",
      "metadata": {
        "id": "813s8tN2O-aW"
      },
      "source": [
        "model1 = tf.keras.models.Sequential([\n",
        "         tf.keras.layers.Flatten(),\n",
        "         tf.keras.layers.Dense(512,activation=tf.nn.relu),\n",
        "         tf.keras.layers.Dropout(0.2),\n",
        "         tf.keras.layers.Dense(3,activation=tf.nn.softmax)])\n",
        "\n",
        "optimiser = tf.keras.optimizers.Adam()\n",
        "model1.compile(optimizer= optimiser, loss='sparse_categorical_crossentropy', metrics = ['acc'])"
      ],
      "execution_count": null,
      "outputs": []
    },
    {
      "cell_type": "code",
      "metadata": {
        "colab": {
          "base_uri": "https://localhost:8080/"
        },
        "id": "TY_cz1AsKJQp",
        "outputId": "eff02597-79a6-4a61-cc00-dc2920edc9b4"
      },
      "source": [
        "#X_train, X_test, y_train, y_test = train_test_split(img_train, lab_train, test_size=0.15, random_state=20, shuffle=True)\n",
        "\n",
        "history = model1.fit(img_train, lab_train, epochs=15, batch_size=16, validation_split=0.2, shuffle=True)"
      ],
      "execution_count": null,
      "outputs": [
        {
          "output_type": "stream",
          "text": [
            "Epoch 1/15\n",
            "10/10 [==============================] - 3s 352ms/step - loss: 1.3697 - acc: 0.9728 - val_loss: 14.6343 - val_acc: 0.7568\n",
            "Epoch 2/15\n",
            "10/10 [==============================] - 3s 345ms/step - loss: 2.7523 - acc: 0.9864 - val_loss: 8.8834 - val_acc: 0.7838\n",
            "Epoch 3/15\n",
            "10/10 [==============================] - 3s 346ms/step - loss: 0.2618 - acc: 0.9796 - val_loss: 1.6570 - val_acc: 0.9459\n",
            "Epoch 4/15\n",
            "10/10 [==============================] - 3s 342ms/step - loss: 1.2652 - acc: 0.9728 - val_loss: 17.3339 - val_acc: 0.7297\n",
            "Epoch 5/15\n",
            "10/10 [==============================] - 3s 346ms/step - loss: 6.1355 - acc: 0.9660 - val_loss: 6.1290 - val_acc: 0.7297\n",
            "Epoch 6/15\n",
            "10/10 [==============================] - 3s 347ms/step - loss: 1.3564 - acc: 0.9660 - val_loss: 0.9494 - val_acc: 0.9459\n",
            "Epoch 7/15\n",
            "10/10 [==============================] - 3s 348ms/step - loss: 1.0638 - acc: 0.9660 - val_loss: 0.3362 - val_acc: 0.9730\n",
            "Epoch 8/15\n",
            "10/10 [==============================] - 3s 348ms/step - loss: 0.9980 - acc: 0.9728 - val_loss: 3.4787 - val_acc: 0.7568\n",
            "Epoch 9/15\n",
            "10/10 [==============================] - 3s 347ms/step - loss: 0.2248 - acc: 0.9796 - val_loss: 1.2703 - val_acc: 0.9189\n",
            "Epoch 10/15\n",
            "10/10 [==============================] - 3s 351ms/step - loss: 0.8646 - acc: 0.9796 - val_loss: 1.2804e-05 - val_acc: 1.0000\n",
            "Epoch 11/15\n",
            "10/10 [==============================] - 3s 347ms/step - loss: 1.2993 - acc: 0.9592 - val_loss: 12.8322 - val_acc: 0.1892\n",
            "Epoch 12/15\n",
            "10/10 [==============================] - 3s 344ms/step - loss: 0.4279 - acc: 0.9592 - val_loss: 1.2168 - val_acc: 0.7027\n",
            "Epoch 13/15\n",
            "10/10 [==============================] - 3s 343ms/step - loss: 0.5734 - acc: 0.9524 - val_loss: 0.2179 - val_acc: 0.9459\n",
            "Epoch 14/15\n",
            "10/10 [==============================] - 3s 345ms/step - loss: 0.1647 - acc: 0.9728 - val_loss: 1.3890e-05 - val_acc: 1.0000\n",
            "Epoch 15/15\n",
            "10/10 [==============================] - 3s 344ms/step - loss: 0.1136 - acc: 0.9864 - val_loss: 0.0615 - val_acc: 0.9730\n"
          ],
          "name": "stdout"
        }
      ]
    },
    {
      "cell_type": "code",
      "metadata": {
        "colab": {
          "base_uri": "https://localhost:8080/",
          "height": 545
        },
        "id": "iC5HnqctBc4v",
        "outputId": "dd3dfe4f-3eda-4b5c-a726-b5e1bf3b01e2"
      },
      "source": [
        "acc = history.history['acc']\n",
        "val_acc = history.history['val_acc']\n",
        "loss = history.history['loss']\n",
        "val_loss = history.history['val_loss']\n",
        "epochs = range(len(acc))\n",
        "plt.plot(epochs, acc, '-', color='orange', label='training acc')\n",
        "plt.plot(epochs, val_acc, '-', color='blue', label='validation acc')\n",
        "plt.title('Training and validation accuracy')\n",
        "plt.legend()\n",
        "plt.show()\n",
        "\n",
        "plt.plot(epochs, loss, '-', color='orange', label='training acc')\n",
        "plt.plot(epochs, val_loss,  '-', color='blue', label='validation acc')\n",
        "plt.title('Training and validation loss')\n",
        "plt.legend()\n",
        "plt.show()"
      ],
      "execution_count": null,
      "outputs": [
        {
          "output_type": "display_data",
          "data": {
            "image/png": "[encoded data removed]",
            "text/plain": [
              "<Figure size 432x288 with 1 Axes>"
            ]
          },
          "metadata": {
            "tags": [],
            "needs_background": "light"
          }
        },
        {
          "output_type": "display_data",
          "data": {
            "image/png": "[encoded data removed]",
            "text/plain": [
              "<Figure size 432x288 with 1 Axes>"
            ]
          },
          "metadata": {
            "tags": [],
            "needs_background": "light"
          }
        }
      ]
    },
    {
      "cell_type": "code",
      "metadata": {
        "id": "KjTUcm6-XTq5"
      },
      "source": [
        "train_image_generator = ImageDataGenerator(rescale=1./255, shear_range=0.2, zoom_range=0.2, \n",
        "                                           rotation_range=20, horizontal_flip=True)\n",
        "\n",
        "data_conf = train_image_generator.flow_from_directory(batch_size=32,\n",
        "                                                     directory=img_train,\n",
        "                                                     target_size=(224, 224),\n",
        "                                                     class_mode='binary')"
      ],
      "execution_count": null,
      "outputs": []
    },
    {
      "cell_type": "code",
      "metadata": {
        "id": "E7Q-0IMN875z"
      },
      "source": [
        ""
      ],
      "execution_count": null,
      "outputs": []
    }
  ]
}