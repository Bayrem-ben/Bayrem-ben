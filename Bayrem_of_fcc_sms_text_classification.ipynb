{
  "nbformat": 4,
  "nbformat_minor": 0,
  "metadata": {
    "colab": {
      "name": "Bayrem of fcc_sms_text_classification.ipynb",
      "private_outputs": true,
      "provenance": [],
      "collapsed_sections": [],
      "include_colab_link": true
    },
    "kernelspec": {
      "display_name": "Python 3",
      "name": "python3"
    },
    "accelerator": "GPU"
  },
  "cells": [
    {
      "cell_type": "markdown",
      "metadata": {
        "id": "view-in-github",
        "colab_type": "text"
      },
      "source": [
        "<a href=\"https://colab.research.google.com/github/Bayrem-ben/Bayrem-ben.github.io/blob/master/Bayrem_of_fcc_sms_text_classification.ipynb\" target=\"_parent\"><img src=\"https://colab.research.google.com/assets/colab-badge.svg\" alt=\"Open In Colab\"/></a>"
      ]
    },
    {
      "cell_type": "markdown",
      "metadata": {
        "id": "Eg62Pmz3o83v"
      },
      "source": [
        "*Note: You are currently reading this using Google Colaboratory which is a cloud-hosted version of Jupyter Notebook. This is a document containing both text cells for documentation and runnable code cells. If you are unfamiliar with Jupyter Notebook, watch this 3-minute introduction before starting this challenge: https://www.youtube.com/watch?v=inN8seMm7UI*\n",
        "\n",
        "---\n",
        "\n",
        "In this challenge, you need to create a machine learning model that will classify SMS messages as either \"ham\" or \"spam\". A \"ham\" message is a normal message sent by a friend. A \"spam\" message is an advertisement or a message sent by a company.\n",
        "\n",
        "You should create a function called `predict_message` that takes a message string as an argument and returns a list. The first element in the list should be a number between zero and one that indicates the likeliness of \"ham\" (0) or \"spam\" (1). The second element in the list should be the word \"ham\" or \"spam\", depending on which is most likely.\n",
        "\n",
        "For this challenge, you will use the [SMS Spam Collection dataset](http://www.dt.fee.unicamp.br/~tiago/smsspamcollection/). The dataset has already been grouped into train data and test data.\n",
        "\n",
        "The first two cells import the libraries and data. The final cell tests your model and function. Add your code in between these cells.\n"
      ]
    },
    {
      "cell_type": "code",
      "metadata": {
        "id": "8RZOuS9LWQvv"
      },
      "source": [
        "# import libraries\n",
        "try:\n",
        "  # %tensorflow_version only exists in Colab.\n",
        "  !pip install tf-nightly\n",
        "except Exception:\n",
        "  pass\n",
        "import tensorflow as tf\n",
        "import pandas as pd\n",
        "from tensorflow import keras\n",
        "!pip install tensorflow-datasets\n",
        "import tensorflow_datasets as tfds\n",
        "import numpy as np\n",
        "import matplotlib.pyplot as plt\n",
        "\n",
        "print(tf.__version__)"
      ],
      "execution_count": null,
      "outputs": []
    },
    {
      "cell_type": "code",
      "metadata": {
        "id": "lMHwYXHXCar3"
      },
      "source": [
        "# get data files\n",
        "!wget https://cdn.freecodecamp.org/project-data/sms/train-data.tsv\n",
        "!wget https://cdn.freecodecamp.org/project-data/sms/valid-data.tsv\n",
        "\n",
        "train_file_path = \"train-data.tsv\"\n",
        "test_file_path = \"valid-data.tsv\""
      ],
      "execution_count": null,
      "outputs": []
    },
    {
      "cell_type": "code",
      "metadata": {
        "id": "g_h508FEClxO"
      },
      "source": [
        "df_train = pd.read_table(train_file_path,sep='\\t', names=['spam', 'text'])\n",
        "df_test = pd.read_table(test_file_path,sep='\\t', names=['spam', 'text']) \n",
        "\n",
        "df_train['spam'] = df_train['spam'].replace({'ham': 0, 'spam': 1})\n",
        "df_test['spam'] = df_test['spam'].replace({'ham': 0, 'spam': 1})"
      ],
      "execution_count": null,
      "outputs": []
    },
    {
      "cell_type": "code",
      "metadata": {
        "id": "fJ1HIrNy7m_u"
      },
      "source": [
        "import nltk\n",
        "from nltk.corpus import stopwords\n",
        "import string\n",
        "\n",
        "nltk.download(\"stopwords\")\n",
        "def process_text(text):\n",
        "  nopunc = [char for char in text if char not in string.punctuation]\n",
        "  nopunc = ''.join(nopunc)\n",
        "\n",
        "  clean_words = [word for word in nopunc.split() if word.lower() not in stopwords.words('english')]\n",
        "  return clean_words\n",
        "  \n",
        "df_train['text'] = df_train['text'].apply(process_text)\n",
        "df_test['text'] = df_test['text'].apply(process_text)"
      ],
      "execution_count": null,
      "outputs": []
    },
    {
      "cell_type": "code",
      "metadata": {
        "id": "6RECrEKq9NtG"
      },
      "source": [
        "from sklearn.feature_extraction.text import CountVectorizer\n",
        "from sklearn.naive_bayes import MultinomialNB\n",
        "from sklearn.metrics import classification_report, confusion_matrix, accuracy_score\n",
        "\n",
        "train_data = CountVectorizer(analyzer=process_text).fit_transform(df_train['text'])\n",
        "test_data = CountVectorizer(analyzer=process_text).fit_transform(df_test['text'])\n",
        "train_label = df_train['spam']\n",
        "test_label = df_test['spam']\n",
        "#another methode predict msg spam\n",
        "\"\"\"\n",
        "classifier = MultinomialNB().fit(train_data, train_label)\n",
        "pred = classifier.predict(train_data)\n",
        "diff = classification_report(train_label, pred)\n",
        "print(diff)\n",
        "print('Confustion matrix : \\n', confusion_matrix(train_label, pred))\n",
        "print('Accuracy : ', accuracy_score(train_label, pred))\n",
        "\n",
        "classifier = MultinomialNB().fit(test_data, test_label)\n",
        "pred = classifier.predict(test_data)\n",
        "diff = classification_report(test_label, pred)\n",
        "print(diff)\n",
        "print('Confustion matrix : \\n', confusion_matrix(test_label, pred))\n",
        "print('Accuracy : ', accuracy_score(test_label, pred))\n",
        "\"\"\""
      ],
      "execution_count": null,
      "outputs": []
    },
    {
      "cell_type": "code",
      "metadata": {
        "id": "TnbBP0dJLD9a"
      },
      "source": [
        "from keras.models import Sequential\n",
        "from keras.layers import LSTM, Dense, Dropout, Masking, Embedding\n",
        "\n",
        "model = Sequential()\n",
        "# Embedding layer\n",
        "model.add(Embedding(88584, 32))\n",
        "# Masking layer for pre-trained embeddings\n",
        "model.add(Masking(mask_value=0.0))\n",
        "# Recurrent layer\n",
        "model.add(LSTM(64, return_sequences=False, dropout=0.1, recurrent_dropout=0.1))\n",
        "# Fully connected layer\n",
        "model.add(Dense(64, activation='relu'))\n",
        "# Dropout for regularization\n",
        "model.add(Dropout(0.5))\n",
        "# Output layer\n",
        "model.add(Dense(1, activation='sigmoid'))\n",
        "\n",
        "model.compile(optimizer='rmsprop', loss='binary_crossentropy', metrics=['acc'])\n",
        "model.summary()\n",
        "\n",
        "tokenizer=tf.keras.preprocessing.text.Tokenizer(\n",
        "    num_words=None,\n",
        "    filters='!\"#$%&()*+,-./:;<=>?@[\\\\]^_`{|}~\\t\\n',\n",
        "    lower=True, split=' ', char_level=False)\n",
        "sequences = tokenizer.texts_to_sequences(train_data)\n",
        "seq = text_to_word_sequence(sequences, filters=self.filters, \n",
        "                            lower=self.lower, split=self.split)\n",
        "\n",
        "embedding_matrix = np.zeros((len(vectors), vectors.shape[0]))\n",
        "x = sequences_to_matrix(sequences, mode='binary')\n",
        "vec = sequences_to_texts_generator(sequences)\n",
        "train = texts_to_matrix(vec, mode='binary')\n",
        "\"\"\"\n",
        "vectors = train_label\n",
        "words = train_data\n",
        "# Create lookup of words to vectors\n",
        "word_lookup = {word: vector for word, vector in zip(words, vectors)}\n",
        "# New matrix to hold word embeddings\n",
        "embedding_matrix = np.zeros((len(vectors), vectors.shape[0]))\n",
        "for i, word in enumerate(word_lookup.keys()):\n",
        "    # Look up the word embedding\n",
        "    vector = word_lookup.get(word, None)\n",
        "    # Record in matrix\n",
        "    if vector is not None:\n",
        "        embedding_matrix[i + 1, :] = vector\n",
        "\"\"\"\n",
        "history = model.fit(train_data, train_label, epochs=10, validation_split = 0.2, verbose=1)"
      ],
      "execution_count": null,
      "outputs": []
    },
    {
      "cell_type": "code",
      "metadata": {
        "id": "SkJcr4RoHTg2"
      },
      "source": [
        "  \"\"\"\n",
        "  titles = list(piv.index.values)\n",
        "  distances, indices = model.kneighbors(piv.loc[book].values.reshape(1, -1), len(titles), True)\n",
        "  recommended_books = [book, sum([[[piv.index[indices.flatten()[i]], distances.flatten()[i]]] for i in range(5, 0, -1)], [])]\n",
        "  \"\"\"\n",
        "  #imdb\n",
        "word_index = imdb.get_word_index()\n",
        "def encoded_text(text):\n",
        "  tokens = keras.preprocessing.text.text_to_word_sequence(text)\n",
        "  tokens = [word_index[word] if word in word_index else 0 for word in tokens]\n",
        "  return sequence.pad_sequences([tokens], 250)[0]\n",
        "  def predict_message(pred_text):\n",
        "    encoded_text = encoded_text(text)\n",
        "    pred = np.zeros((1, 250))\n",
        "    pred[0] = encoded_text\n",
        "    result = model.predict(pred)\n",
        "    print(result[0])\n",
        "\n",
        "  return (prediction)"
      ],
      "execution_count": null,
      "outputs": []
    },
    {
      "cell_type": "code",
      "metadata": {
        "id": "J9tD9yACG6M9"
      },
      "source": [
        "# function to predict messages based on model\n",
        "# (should return list containing prediction and label, ex. [0.008318834938108921, 'ham'])\n",
        "\n",
        "def predict_message(pred_text):\n",
        "\n",
        "\n",
        "\n",
        "  return (prediction)\n",
        "\n",
        "\n",
        "pred_text = \"how are you doing today?\"\n",
        "\n",
        "prediction = predict_message(pred_text)\n",
        "print(prediction)"
      ],
      "execution_count": null,
      "outputs": []
    },
    {
      "cell_type": "code",
      "metadata": {
        "id": "Dxotov85SjsC"
      },
      "source": [
        "# Run this cell to test your function and model. Do not modify contents.\n",
        "def test_predictions():\n",
        "  test_messages = [\"how are you doing today\",\n",
        "                   \"sale today! to stop texts call 98912460324\",\n",
        "                   \"i dont want to go. can we try it a different day? available sat\",\n",
        "                   \"our new mobile video service is live. just install on your phone to start watching.\",\n",
        "                   \"you have won £1000 cash! call to claim your prize.\",\n",
        "                   \"i'll bring it tomorrow. don't forget the milk.\",\n",
        "                   \"wow, is your arm alright. that happened to me one time too\"\n",
        "                  ]\n",
        "\n",
        "  test_answers = [\"ham\", \"spam\", \"ham\", \"spam\", \"spam\", \"ham\", \"ham\"]\n",
        "  passed = True\n",
        "\n",
        "  for msg, ans in zip(test_messages, test_answers):\n",
        "    prediction = predict_message(msg)\n",
        "    if prediction[1] != ans:\n",
        "      passed = False\n",
        "\n",
        "  if passed:\n",
        "    print(\"You passed the challenge. Great job!\")\n",
        "  else:\n",
        "    print(\"You haven't passed yet. Keep trying.\")\n",
        "\n",
        "test_predictions()\n"
      ],
      "execution_count": null,
      "outputs": []
    }
  ]
}