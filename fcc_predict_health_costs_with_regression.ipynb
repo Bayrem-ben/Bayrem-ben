{
  "nbformat": 4,
  "nbformat_minor": 0,
  "metadata": {
    "colab": {
      "name": "fcc_predict_health_costs_with_regression.ipynb",
      "private_outputs": true,
      "provenance": [],
      "collapsed_sections": [],
      "include_colab_link": true
    },
    "kernelspec": {
      "display_name": "Python 3",
      "name": "python3"
    }
  },
  "cells": [
    {
      "cell_type": "markdown",
      "metadata": {
        "id": "view-in-github",
        "colab_type": "text"
      },
      "source": [
        "<a href=\"https://colab.research.google.com/github/Bayrem-ben/Bayrem-ben.github.io/blob/master/fcc_predict_health_costs_with_regression.ipynb\" target=\"_parent\"><img src=\"https://colab.research.google.com/assets/colab-badge.svg\" alt=\"Open In Colab\"/></a>"
      ]
    },
    {
      "cell_type": "markdown",
      "metadata": {
        "id": "M9TX15KOkPBV"
      },
      "source": [
        "*Note: You are currently reading this using Google Colaboratory which is a cloud-hosted version of Jupyter Notebook. This is a document containing both text cells for documentation and runnable code cells. If you are unfamiliar with Jupyter Notebook, watch this 3-minute introduction before starting this challenge: https://www.youtube.com/watch?v=inN8seMm7UI*\n",
        "\n",
        "---\n",
        "\n",
        "In this challenge, you will predict healthcare costs using a regression algorithm.\n",
        "\n",
        "You are given a dataset that contains information about different people including their healthcare costs. Use the data to predict healthcare costs based on new data.\n",
        "\n",
        "The first two cells of this notebook import libraries and the data.\n",
        "\n",
        "Make sure to convert categorical data to numbers. Use 80% of the data as the `train_dataset` and 20% of the data as the `test_dataset`.\n",
        "\n",
        "`pop` off the \"expenses\" column from these datasets to create new datasets called `train_labels` and `test_labels`. Use these labels when training your model.\n",
        "\n",
        "Create a model and train it with the `train_dataset`. Run the final cell in this notebook to check your model. The final cell will use the unseen `test_dataset` to check how well the model generalizes.\n",
        "\n",
        "To pass the challenge, `model.evaluate` must return a Mean Absolute Error of under 3500. This means it predicts health care costs correctly within $3500.\n",
        "\n",
        "The final cell will also predict expenses using the `test_dataset` and graph the results."
      ]
    },
    {
      "cell_type": "code",
      "metadata": {
        "id": "1rRo8oNqZ-Rj"
      },
      "source": [
        "# Import libraries. You may or may not use all of these.\n",
        "!pip install -q git+https://github.com/tensorflow/docs\n",
        "import matplotlib.pyplot as plt\n",
        "import numpy as np\n",
        "import pandas as pd\n",
        "\n",
        "try:\n",
        "  # %tensorflow_version only exists in Colab.\n",
        "  %tensorflow_version 2.x\n",
        "except Exception:\n",
        "  pass\n",
        "import tensorflow as tf\n",
        "\n",
        "from tensorflow import keras\n",
        "from tensorflow.keras import layers\n",
        "\n",
        "import tensorflow_docs as tfdocs\n",
        "import tensorflow_docs.plots\n",
        "import tensorflow_docs.modeling"
      ],
      "execution_count": null,
      "outputs": []
    },
    {
      "cell_type": "code",
      "metadata": {
        "id": "CiX2FI4gZtTt"
      },
      "source": [
        "# Import data\n",
        "!wget https://cdn.freecodecamp.org/project-data/health-costs/insurance.csv\n",
        "dataset = pd.read_csv('insurance.csv')\n",
        "dataset.tail()"
      ],
      "execution_count": null,
      "outputs": []
    },
    {
      "cell_type": "code",
      "metadata": {
        "id": "LcopvQh3X-kX"
      },
      "source": [
        "from sklearn.model_selection import train_test_split\n",
        "\n",
        "df = dataset.copy()\n",
        "df['sex'] = df['sex'].replace({'female': 0, 'male': 1})\n",
        "df['smoker'] = df['smoker'].replace({'no': 0, 'yes': 1})\n",
        "\n",
        "x = pd.get_dummies(df, columns=['region'], drop_first=True)\n",
        "y = df['expenses']\n",
        "\n",
        "train_dataset, test_dataset, train_labels, test_labels = train_test_split(x, y, test_size=0.2, random_state=0)"
      ],
      "execution_count": null,
      "outputs": []
    },
    {
      "cell_type": "code",
      "metadata": {
        "id": "LBj3yZJ85Nxv"
      },
      "source": [
        "CATEGORICAL_COLUMNS = ['age', 'bmi','sex','smoker', 'children']\n",
        "NUMERIC_COLUMNS = ['expenses']\n",
        "\n",
        "feature_columns = []\n",
        "for feature_name in CATEGORICAL_COLUMNS:\n",
        "  vocabulary = df_dummies[feature_name].unique()\n",
        "  feature_columns.append(tf.feature_column.categorical_column_with_vocabulary_list(feature_name, vocabulary))\n",
        "\n",
        "for feature_name in df_pop:\n",
        "  feature_columns.append(tf.feature_column.numeric_column(feature_name, dtype=tf.float32))\n",
        "\n",
        "def make_input_fn(data_df, label_df, num_epochs=10, shuffle=True, batch_size=32):\n",
        "  def input_function():\n",
        "    ds = tf.data.Dataset.from_tensor_slices((dict(data_df), label_df))\n",
        "    if shuffle:\n",
        "      ds = ds.shuffle(1000)\n",
        "    ds = ds.batch(batch_size).repeat(num_epochs)\n",
        "    return ds\n",
        "  return input_function\n",
        "\n",
        "train_input_fn = make_input_fn(train_dataset, train_labels)\n",
        "eval_input_fn = make_input_fn(test_dataset, test_labels, num_epochs=1, shuffle=False)\n",
        "\n",
        "classifier = tf.estimator.LinearRegressor(\n",
        "    feature_columns=df,\n",
        "    optimizer=tf.keras.optimizers.Ftrl(\n",
        "      learning_rate=0.1,\n",
        "      l1_regularization_strength=0.001\n",
        "    ))\n",
        "classifier.train(train_input_fn)\n",
        "result = classifier.evaluate(eval_input_fn)\n",
        "\n",
        "print(result)"
      ],
      "execution_count": null,
      "outputs": []
    },
    {
      "cell_type": "markdown",
      "metadata": {
        "id": "G-RpkPGz5O7u"
      },
      "source": [
        ""
      ]
    },
    {
      "cell_type": "code",
      "metadata": {
        "id": "3dGYBL2OaDbr"
      },
      "source": [
        "\n",
        "model = tf.estimator.LinearClassifier(\n",
        "    feature_columns=df_dummies, optimizer=tf.keras.optimizers.Ftrl(\n",
        "      learning_rate=0.1,\n",
        "      l1_regularization_strength=0.001\n",
        "    ))\n",
        "\"\"\" \n",
        ", hidden_units=[30,10], n_classes=3   \n",
        "    model_dir=None, n_classes=2, weight_column=None,\n",
        "    label_vocabulary=None, optimizer='Ftrl', config=None,\n",
        "    warm_start_from=None,\n",
        "    loss_reduction=losses_utils.ReductionV2.SUM_OVER_BATCH_SIZE,\n",
        "    sparse_combiner='sum'\n",
        ")\n",
        "\n",
        "\n",
        "model.compile(\n",
        "    optimizer=keras.optimizers.RMSprop(),  # Optimizer\n",
        "    # Loss function to minimize\n",
        "    loss=keras.losses.SparseCategoricalCrossentropy(),\n",
        "    # List of metrics to monitor\n",
        "    metrics=[keras.metrics.SparseCategoricalAccuracy()],\n",
        ")\n",
        "model.summary()\n",
        "\"\"\""
      ],
      "execution_count": null,
      "outputs": []
    },
    {
      "cell_type": "code",
      "metadata": {
        "id": "nQakPqvxkCPN"
      },
      "source": [
        "def f_input_fn(features, labels, training=True, batch_size= 256):\n",
        "  dataset = tf.data.Dataset.from_tensor_slices((dict(features), labels))\n",
        "  if training:\n",
        "    dataset = dataset.shuffle(1000).repeat()\n",
        "  return dataset.batch(batch_size)\n",
        "    \n",
        "classifier = tf.estimator.LinearRegressor(\n",
        "    feature_columns=df_dummies,\n",
        "    optimizer=tf.keras.optimizers.Ftrl(\n",
        "      learning_rate=0.1,\n",
        "      l1_regularization_strength=0.001\n",
        "    ))\n",
        "    \n",
        "classifier.train(input_fn=lambda : f_input_fn(train_dataset, train_labels, training=True), steps=1000)\n",
        "\n",
        "classifier.evaluate(input_fn=lambda : f_input_fn(test_dataset, test_labels, \n",
        "                                      training=False),\n",
        "                                      steps=1000)"
      ],
      "execution_count": null,
      "outputs": []
    },
    {
      "cell_type": "code",
      "metadata": {
        "id": "R9LE8sq0H6Jm"
      },
      "source": [
        "\"\"\" another methode but no evaluate\n",
        "from sklearn.linear_model import LinearRegression\n",
        "from sklearn.metrics import mean_absolute_error, mean_squared_error, accuracy_score\n",
        "regressor = LinearRegression()\n",
        "\n",
        "regressor.fit(train_dataset, train_labels)\n",
        "y_prediction = regressor.predict(test_dataset)\n",
        "\n",
        "accuracy_score(y_true = test_labels.astype(int), y_pred = y_prediction.astype(int))\n",
        "train_s = regressor.score(train_dataset, train_labels)\n",
        "test_s = regressor.score(test_dataset, test_labels)\n",
        "print(train_s, test_s)\n",
        "loss = regressor.evaluate(test_dataset, test_labels)\n",
        "\"\"\""
      ],
      "execution_count": null,
      "outputs": []
    },
    {
      "cell_type": "code",
      "metadata": {
        "id": "Xe7RXH3N3CWU"
      },
      "source": [
        "# RUN THIS CELL TO TEST YOUR MODEL. DO NOT MODIFY CONTENTS.\n",
        "# Test model by checking how well the model generalizes using the test set.\n",
        "loss, mae, mse = model.evaluate(test_dataset, test_labels, verbose=2)\n",
        "\n",
        "print(\"Testing set Mean Abs Error: {:5.2f} expenses\".format(mae))\n",
        "\n",
        "if mae < 3500:\n",
        "  print(\"You passed the challenge. Great job!\")\n",
        "else:\n",
        "  print(\"The Mean Abs Error must be less than 3500. Keep trying.\")\n",
        "\n",
        "# Plot predictions.\n",
        "test_predictions = model.predict(test_dataset).flatten()\n",
        "\n",
        "a = plt.axes(aspect='equal')\n",
        "plt.scatter(test_labels, test_predictions)\n",
        "plt.xlabel('True values (expenses)')\n",
        "plt.ylabel('Predictions (expenses)')\n",
        "lims = [0, 50000]\n",
        "plt.xlim(lims)\n",
        "plt.ylim(lims)\n",
        "_ = plt.plot(lims,lims)\n"
      ],
      "execution_count": null,
      "outputs": []
    }
  ]
}